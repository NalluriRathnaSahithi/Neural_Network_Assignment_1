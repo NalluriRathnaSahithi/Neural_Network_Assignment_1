{
 "cells": [
  {
   "cell_type": "code",
   "execution_count": 12,
   "id": "0b824d91",
   "metadata": {},
   "outputs": [
    {
     "name": "stdout",
     "output_type": "stream",
     "text": [
      "Enter a string:python\n",
      "ntoh\n"
     ]
    }
   ],
   "source": [
    "'''Write a python program for the following:\n",
    "– Input the string “Python” as a list of characters from console, delete at least 2 characters, reverse the\n",
    "resultantstring and print it.'''\n",
    "\n",
    "\n",
    "import random\n",
    "n=input(\"Enter a string:\")\n",
    "l=[]\n",
    "for i in range(len(n)):\n",
    "        l.append(n[i])\n",
    "del l[:2]\n",
    "random.shuffle(l)\n",
    "res=''.join(l)\n",
    "print(res)"
   ]
  },
  {
   "cell_type": "code",
   "execution_count": 3,
   "id": "ea060e21",
   "metadata": {},
   "outputs": [
    {
     "name": "stdout",
     "output_type": "stream",
     "text": [
      "10 2\n",
      "The result of arithmetic operations are as follows\n",
      "+ operations 12\n",
      "- operations 8\n",
      "* operations 20\n",
      "/ operations 5.0\n",
      "// operations 5\n",
      "% operations 0\n",
      "** operations 100\n"
     ]
    }
   ],
   "source": [
    "''' Arithmetic Opertions'''\n",
    "x,y=map(int,input().split())\n",
    "print(\"The result of arithmetic operations are as follows:\")\n",
    "print(\"+ operations\",x+y)\n",
    "print(\"- operations\",x-y)\n",
    "print(\"* operations\",x*y)\n",
    "print(\"/ operations\",x/y)\n",
    "print(\"// operations\",x//y)\n",
    "print(\"% operations\",x%y)\n",
    "print(\"** operations\",x**y)"
   ]
  },
  {
   "cell_type": "code",
   "execution_count": 5,
   "id": "5d41162b",
   "metadata": {},
   "outputs": [
    {
     "name": "stdout",
     "output_type": "stream",
     "text": [
      "I love python\n",
      "I love pythons\n"
     ]
    }
   ],
   "source": [
    "'''Write a program that accepts a sentence and replace each occurrence of ‘python’ with ‘pythons’.'''\n",
    "\n",
    "n=input()\n",
    "k=n.replace('python','pythons')\n",
    "print(k)"
   ]
  },
  {
   "cell_type": "code",
   "execution_count": 11,
   "id": "fce9b1df",
   "metadata": {},
   "outputs": [
    {
     "name": "stdout",
     "output_type": "stream",
     "text": [
      "Input Percentage: 77\n",
      "C grade\n"
     ]
    }
   ],
   "source": [
    "'''Use the if statement conditions to write a program to print the letter grade based on an input class score. Use the\n",
    "grading scheme we are using in this class.   '''\n",
    "\n",
    "\n",
    "marks=float(input(\"Input Percentage: \"))\n",
    "if(marks>100 or marks<0):\n",
    "    print(\"Invalid Input\")\n",
    "elif(marks<=100 and marks>=90):\n",
    "    print(\"A grade\")\n",
    "elif(marks>=80 ):\n",
    "    print(\"B grade\")\n",
    "elif(marks>=70):\n",
    "    print(\"C grade\")\n",
    "elif(marks>=60):\n",
    "    print(\"D grade\")\n",
    "elif(marks<60 and marks>0):\n",
    "    print(\"Fail\")\n"
   ]
  }
 ],
 "metadata": {
  "kernelspec": {
   "display_name": "Python 3 (ipykernel)",
   "language": "python",
   "name": "python3"
  },
  "language_info": {
   "codemirror_mode": {
    "name": "ipython",
    "version": 3
   },
   "file_extension": ".py",
   "mimetype": "text/x-python",
   "name": "python",
   "nbconvert_exporter": "python",
   "pygments_lexer": "ipython3",
   "version": "3.11.4"
  }
 },
 "nbformat": 4,
 "nbformat_minor": 5
}
